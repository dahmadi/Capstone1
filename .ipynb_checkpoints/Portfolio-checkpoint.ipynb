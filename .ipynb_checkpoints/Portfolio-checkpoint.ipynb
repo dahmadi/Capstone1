{
 "cells": [
  {
   "cell_type": "code",
   "execution_count": 6,
   "id": "6f2c2822-b428-4196-bb30-17dac97263e6",
   "metadata": {},
   "outputs": [],
   "source": [
    "#importing necessary libraries \n",
    "import numpy as np\n",
    "import pandas as pd\n",
    "import os\n",
    "from datetime import datetime, timedelta\n",
    "import matplotlib.pyplot as plt\n",
    "import alpaca_trade_api as tradeapi\n",
    "import yfinance as yf\n",
    "import seaborn as sns #library not from class\n",
    "%matplotlib inline"
   ]
  },
  {
   "cell_type": "code",
   "execution_count": 7,
   "id": "cca085cb-8f52-435b-af02-c416407f43c5",
   "metadata": {},
   "outputs": [
    {
     "data": {
      "text/plain": [
       "True"
      ]
     },
     "execution_count": 7,
     "metadata": {},
     "output_type": "execute_result"
    }
   ],
   "source": [
    "#Load .env environment variables\n",
    "from dotenv import load_dotenv\n",
    "load_dotenv()\n"
   ]
  },
  {
   "cell_type": "code",
   "execution_count": 8,
   "id": "56825116-655f-4f55-b6f3-81aefa2c9a5e",
   "metadata": {},
   "outputs": [],
   "source": [
    "# Set a random seed for reproducibility\n",
    "np.random.seed(40)"
   ]
  },
  {
   "cell_type": "code",
   "execution_count": 10,
   "id": "5f29a1d5-301c-4906-a1d0-a0fc5e7dab0c",
   "metadata": {},
   "outputs": [],
   "source": [
    "# Set Alpaca API key and secret\n",
    "APCA_API_KEY_ID = os.getenv(\"APCA_API_KEY\")\n",
    "APCA_API_SECRET_KEY = os.getenv(\"APCA_SECRET_KEY\")\n",
    "ALPACA_ENDPOINT_KEY = os.getenv(\"ALPACA_END_POINT\")\n",
    "\n",
    "#ensuring api keys are correct \n",
    "#print(os.getenv(\"APCA_API_KEY_ID\"))\n",
    "#print(os.getenv(\"APCA_API_SECRET_KEY\"))\n",
    "#print(os.getenv(\"ALPACA_ENDPOINT_KEY\"))\n",
    "\n",
    "# Create the Alpaca API object\n",
    "alpaca = tradeapi.REST(APCA_API_KEY_ID, APCA_API_SECRET_KEY, api_version=\"v2\",base_url= ALPACA_ENDPOINT_KEY)"
   ]
  },
  {
   "cell_type": "markdown",
   "id": "25c499e0-7c41-4450-8010-d58a446409c5",
   "metadata": {},
   "source": [
    "## Part 1 - Portfolio Optimization \n"
   ]
  },
  {
   "cell_type": "code",
   "execution_count": 29,
   "id": "432c91f0-8e13-4f25-830f-f38fad7018f6",
   "metadata": {},
   "outputs": [
    {
     "name": "stdout",
     "output_type": "stream",
     "text": [
      "The initial investment is: $10000\n",
      "The selected stocks are: ['AAPL', 'TSLA', 'MSFT']\n",
      "The start date is: 2020-11-08\n",
      "The start date is: 2020-11-08\n",
      "The number of monte carlo simulations is: 500\n"
     ]
    }
   ],
   "source": [
    "#initializing variables\n",
    "initial_investment = 10000\n",
    "print(f'The initial investment is: ${initial_investment}')\n",
    "\n",
    "stock_tickers = ['AAPL', 'AMZN', 'MSFT']  # Replace with your desired stock symbols\n",
    "ticker_string = ', '.join(stock_tickers)\n",
    "print(f'The selected stocks are: {stock_tickers}')\n",
    "\n",
    "start_date = '2020-11-08'  # Set your desired start date\n",
    "print(f'The start date is: {start_date}')\n",
    "\n",
    "end_date = '2023-11-08'  # Set your desired start date\n",
    "print(f'The start date is: {start_date}')\n",
    "\n",
    "num_simulations = 500 \n",
    "print(f'The number of monte carlo simulations is: {num_simulations}')"
   ]
  },
  {
   "cell_type": "code",
   "execution_count": 36,
   "id": "5f77af5b-77d2-49a5-8252-fea9f77b5deb",
   "metadata": {},
   "outputs": [
    {
     "name": "stdout",
     "output_type": "stream",
     "text": [
      "DataFrame from Alpaca:\n",
      "                            close      high     low  trade_count    open  \\\n",
      "timestamp                                                                  \n",
      "2020-11-09 05:00:00+00:00  116.32  121.9900  116.05       997694  120.50   \n",
      "2020-11-10 05:00:00+00:00  116.00  117.5900  114.13       820549  115.55   \n",
      "2020-11-11 05:00:00+00:00  119.49  119.6300  116.44       621700  117.19   \n",
      "2020-11-12 05:00:00+00:00  119.21  120.5300  118.57       613393  119.62   \n",
      "2020-11-13 05:00:00+00:00  119.26  119.6717  117.87       505192  119.44   \n",
      "...                           ...       ...     ...          ...     ...   \n",
      "2023-11-02 04:00:00+00:00  218.51  219.2000  211.45      1338281  212.97   \n",
      "2023-11-03 04:00:00+00:00  219.96  226.3701  218.40      1247127  221.15   \n",
      "2023-11-06 05:00:00+00:00  219.27  226.3200  215.00      1266125  223.98   \n",
      "2023-11-07 05:00:00+00:00  222.18  223.1200  215.72      1141257  219.98   \n",
      "2023-11-08 05:00:00+00:00  222.11  224.1500  217.64      1070149  223.15   \n",
      "\n",
      "                              volume        vwap symbol  \n",
      "timestamp                                                \n",
      "2020-11-09 05:00:00+00:00  165715048  119.375892   AAPL  \n",
      "2020-11-10 05:00:00+00:00  144162367  116.288555   AAPL  \n",
      "2020-11-11 05:00:00+00:00  118291874  118.542381   AAPL  \n",
      "2020-11-12 05:00:00+00:00  108671816  119.477884   AAPL  \n",
      "2020-11-13 05:00:00+00:00   87008083  118.842190   AAPL  \n",
      "...                              ...         ...    ...  \n",
      "2023-11-02 04:00:00+00:00  126084508  216.366565   TSLA  \n",
      "2023-11-03 04:00:00+00:00  119534792  221.158273   TSLA  \n",
      "2023-11-06 05:00:00+00:00  117394735  219.574593   TSLA  \n",
      "2023-11-07 05:00:00+00:00  116927581  219.140673   TSLA  \n",
      "2023-11-08 05:00:00+00:00  106603872  220.309370   TSLA  \n",
      "\n",
      "[3020 rows x 8 columns]\n",
      "\n",
      "Columns before drop: Index(['close', 'high', 'low', 'trade_count', 'open', 'volume', 'vwap',\n",
      "       'symbol'],\n",
      "      dtype='object')\n",
      "SPY column not present in the DataFrame.\n"
     ]
    }
   ],
   "source": [
    "# Importing Data and cleaning\n",
    "# CODE\n",
    "spy = \"SPY\"\n",
    "list_of_tickers = stock_tickers + [spy]  # Combine stock tickers and 'SPY' into a list\n",
    "ticker_string_for_query = ', '.join(list_of_tickers)  # Create a string for query display\n",
    "\n",
    "start_date = pd.Timestamp(start_date, tz='America/New_York').isoformat()\n",
    "end_date = pd.Timestamp(end_date, tz='America/New_York').isoformat()\n",
    "\n",
    "# Remove 'after' and 'until' arguments from the function call\n",
    "df = alpaca.get_bars(\n",
    "    list_of_tickers, \n",
    "    timeframe,\n",
    "    limit=None,\n",
    "    start=start_date,\n",
    "    end=end_date,\n",
    ").df\n",
    "\n",
    "# Print the entire DataFrame to inspect its structure\n",
    "print(\"DataFrame from Alpaca:\")\n",
    "print(df)\n",
    "\n",
    "df = df.sort_index()\n",
    "\n",
    "# Print the columns to inspect what columns are present before the drop operation\n",
    "print(\"\\nColumns before drop:\", df.columns)\n",
    "\n",
    "# Drop columns only if they exist in the DataFrame\n",
    "columns_to_drop = [col for col in list_of_tickers if col in df.columns]\n",
    "df = df.drop(columns=columns_to_drop, errors='ignore')\n",
    "\n",
    "df.index = df.index.date\n",
    "df.dropna(inplace=True)\n",
    "\n",
    "# Check if 'SPY' column exists before accessing it\n",
    "if spy in df.columns:\n",
    "    spy_df = df[spy]\n",
    "    df.drop(columns=spy, inplace=True)\n",
    "    print(df.tail())\n",
    "else:\n",
    "    print(f\"{spy} column not present in the DataFrame.\")\n"
   ]
  },
  {
   "cell_type": "code",
   "execution_count": null,
   "id": "3eafe8e3-9f11-4827-a2bd-670b128dc2dc",
   "metadata": {},
   "outputs": [],
   "source": []
  }
 ],
 "metadata": {
  "kernelspec": {
   "display_name": "Python 3 (ipykernel)",
   "language": "python",
   "name": "python3"
  },
  "language_info": {
   "codemirror_mode": {
    "name": "ipython",
    "version": 3
   },
   "file_extension": ".py",
   "mimetype": "text/x-python",
   "name": "python",
   "nbconvert_exporter": "python",
   "pygments_lexer": "ipython3",
   "version": "3.9.18"
  }
 },
 "nbformat": 4,
 "nbformat_minor": 5
}
