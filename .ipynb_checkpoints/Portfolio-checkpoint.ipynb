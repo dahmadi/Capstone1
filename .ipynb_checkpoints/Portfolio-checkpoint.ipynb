{
 "cells": [
  {
   "cell_type": "code",
   "execution_count": 1,
   "id": "6f2c2822-b428-4196-bb30-17dac97263e6",
   "metadata": {},
   "outputs": [],
   "source": [
    "#importing necessary libraries \n",
    "import numpy as np\n",
    "import pandas as pd\n",
    "import os\n",
    "from datetime import datetime, timedelta\n",
    "import matplotlib.pyplot as plt\n",
    "import alpaca_trade_api as tradeapi\n",
    "import yfinance as yf\n",
    "from urllib.parse import quote\n",
    "import seaborn as sns #library not from class\n",
    "%matplotlib inline"
   ]
  },
  {
   "cell_type": "code",
   "execution_count": 2,
   "id": "cca085cb-8f52-435b-af02-c416407f43c5",
   "metadata": {},
   "outputs": [
    {
     "data": {
      "text/plain": [
       "True"
      ]
     },
     "execution_count": 2,
     "metadata": {},
     "output_type": "execute_result"
    }
   ],
   "source": [
    "#Load .env environment variables\n",
    "from dotenv import load_dotenv\n",
    "load_dotenv()\n"
   ]
  },
  {
   "cell_type": "code",
   "execution_count": 3,
   "id": "56825116-655f-4f55-b6f3-81aefa2c9a5e",
   "metadata": {},
   "outputs": [],
   "source": [
    "# Set a random seed for reproducibility\n",
    "np.random.seed(40)"
   ]
  },
  {
   "cell_type": "code",
   "execution_count": 4,
   "id": "5f29a1d5-301c-4906-a1d0-a0fc5e7dab0c",
   "metadata": {},
   "outputs": [],
   "source": [
    "# Set Alpaca API key and secret\n",
    "APCA_API_KEY_ID = os.getenv(\"APCA_API_KEY\")\n",
    "APCA_API_SECRET_KEY = os.getenv(\"APCA_SECRET_KEY\")\n",
    "ALPACA_ENDPOINT_KEY = os.getenv(\"ALPACA_END_POINT\")\n",
    "\n",
    "#ensuring api keys are correct \n",
    "#print(os.getenv(\"APCA_API_KEY_ID\"))\n",
    "#print(os.getenv(\"APCA_API_SECRET_KEY\"))\n",
    "#print(os.getenv(\"ALPACA_ENDPOINT_KEY\"))\n",
    "\n",
    "# Create the Alpaca API object\n",
    "alpaca = tradeapi.REST(APCA_API_KEY_ID, APCA_API_SECRET_KEY, api_version=\"v2\",base_url= ALPACA_ENDPOINT_KEY)"
   ]
  },
  {
   "cell_type": "markdown",
   "id": "25c499e0-7c41-4450-8010-d58a446409c5",
   "metadata": {},
   "source": [
    "## Part 1 - Portfolio Optimization \n"
   ]
  },
  {
   "cell_type": "code",
   "execution_count": 5,
   "id": "432c91f0-8e13-4f25-830f-f38fad7018f6",
   "metadata": {},
   "outputs": [
    {
     "name": "stdout",
     "output_type": "stream",
     "text": [
      "The initial investment is: $10000\n",
      "The selected stocks are: ['AAPL', 'AMZN', 'MSFT']\n",
      "The start date is: 2020-11-08\n",
      "The start date is: 2020-11-08\n",
      "The number of monte carlo simulations is: 500\n"
     ]
    }
   ],
   "source": [
    "#initializing variables\n",
    "initial_investment = 10000\n",
    "print(f'The initial investment is: ${initial_investment}')\n",
    "\n",
    "stock_tickers = ['AAPL', 'AMZN', 'MSFT'] \n",
    "ticker_string = ', '.join(stock_tickers)\n",
    "print(f'The selected stocks are: {stock_tickers}')\n",
    "\n",
    "start_date = '2020-11-08'  # Set your desired start date\n",
    "print(f'The start date is: {start_date}')\n",
    "\n",
    "end_date = '2023-11-08'  # Set your desired start date\n",
    "print(f'The start date is: {start_date}')\n",
    "\n",
    "num_simulations = 500 \n",
    "print(f'The number of monte carlo simulations is: {num_simulations}')"
   ]
  },
  {
   "cell_type": "markdown",
   "id": "68eb5088-3638-4037-b357-0a77f71c2606",
   "metadata": {},
   "source": [
    "### Import S&P500 Data From Alpacas and Display Closing Prices From Chosen Stocks"
   ]
  },
  {
   "cell_type": "code",
   "execution_count": 28,
   "id": "5f77af5b-77d2-49a5-8252-fea9f77b5deb",
   "metadata": {},
   "outputs": [
    {
     "data": {
      "text/html": [
       "<div>\n",
       "<style scoped>\n",
       "    .dataframe tbody tr th:only-of-type {\n",
       "        vertical-align: middle;\n",
       "    }\n",
       "\n",
       "    .dataframe tbody tr th {\n",
       "        vertical-align: top;\n",
       "    }\n",
       "\n",
       "    .dataframe thead th {\n",
       "        text-align: right;\n",
       "    }\n",
       "</style>\n",
       "<table border=\"1\" class=\"dataframe\">\n",
       "  <thead>\n",
       "    <tr style=\"text-align: right;\">\n",
       "      <th></th>\n",
       "      <th>AAPL</th>\n",
       "      <th>AMZN</th>\n",
       "      <th>MSFT</th>\n",
       "    </tr>\n",
       "  </thead>\n",
       "  <tbody>\n",
       "    <tr>\n",
       "      <th>2020-11-09 05:00:00+00:00</th>\n",
       "      <td>116.32</td>\n",
       "      <td>3143.74</td>\n",
       "      <td>218.39</td>\n",
       "    </tr>\n",
       "    <tr>\n",
       "      <th>2020-11-10 05:00:00+00:00</th>\n",
       "      <td>116.00</td>\n",
       "      <td>3035.02</td>\n",
       "      <td>211.01</td>\n",
       "    </tr>\n",
       "    <tr>\n",
       "      <th>2020-11-11 05:00:00+00:00</th>\n",
       "      <td>119.49</td>\n",
       "      <td>3137.39</td>\n",
       "      <td>216.55</td>\n",
       "    </tr>\n",
       "    <tr>\n",
       "      <th>2020-11-12 05:00:00+00:00</th>\n",
       "      <td>119.21</td>\n",
       "      <td>3110.28</td>\n",
       "      <td>215.44</td>\n",
       "    </tr>\n",
       "    <tr>\n",
       "      <th>2020-11-13 05:00:00+00:00</th>\n",
       "      <td>119.26</td>\n",
       "      <td>3128.81</td>\n",
       "      <td>216.51</td>\n",
       "    </tr>\n",
       "    <tr>\n",
       "      <th>...</th>\n",
       "      <td>...</td>\n",
       "      <td>...</td>\n",
       "      <td>...</td>\n",
       "    </tr>\n",
       "    <tr>\n",
       "      <th>2023-11-02 04:00:00+00:00</th>\n",
       "      <td>177.57</td>\n",
       "      <td>138.07</td>\n",
       "      <td>348.32</td>\n",
       "    </tr>\n",
       "    <tr>\n",
       "      <th>2023-11-03 04:00:00+00:00</th>\n",
       "      <td>176.65</td>\n",
       "      <td>138.60</td>\n",
       "      <td>352.80</td>\n",
       "    </tr>\n",
       "    <tr>\n",
       "      <th>2023-11-06 05:00:00+00:00</th>\n",
       "      <td>179.23</td>\n",
       "      <td>139.74</td>\n",
       "      <td>356.53</td>\n",
       "    </tr>\n",
       "    <tr>\n",
       "      <th>2023-11-07 05:00:00+00:00</th>\n",
       "      <td>181.82</td>\n",
       "      <td>142.71</td>\n",
       "      <td>360.53</td>\n",
       "    </tr>\n",
       "    <tr>\n",
       "      <th>2023-11-08 05:00:00+00:00</th>\n",
       "      <td>182.89</td>\n",
       "      <td>142.08</td>\n",
       "      <td>363.20</td>\n",
       "    </tr>\n",
       "  </tbody>\n",
       "</table>\n",
       "<p>755 rows × 3 columns</p>\n",
       "</div>"
      ],
      "text/plain": [
       "                             AAPL     AMZN    MSFT\n",
       "2020-11-09 05:00:00+00:00  116.32  3143.74  218.39\n",
       "2020-11-10 05:00:00+00:00  116.00  3035.02  211.01\n",
       "2020-11-11 05:00:00+00:00  119.49  3137.39  216.55\n",
       "2020-11-12 05:00:00+00:00  119.21  3110.28  215.44\n",
       "2020-11-13 05:00:00+00:00  119.26  3128.81  216.51\n",
       "...                           ...      ...     ...\n",
       "2023-11-02 04:00:00+00:00  177.57   138.07  348.32\n",
       "2023-11-03 04:00:00+00:00  176.65   138.60  352.80\n",
       "2023-11-06 05:00:00+00:00  179.23   139.74  356.53\n",
       "2023-11-07 05:00:00+00:00  181.82   142.71  360.53\n",
       "2023-11-08 05:00:00+00:00  182.89   142.08  363.20\n",
       "\n",
       "[755 rows x 3 columns]"
      ]
     },
     "execution_count": 28,
     "metadata": {},
     "output_type": "execute_result"
    }
   ],
   "source": [
    "from urllib.parse import quote\n",
    "\n",
    "# Importing SP500 \n",
    "spy = [\"SPY\"]\n",
    "\n",
    "# Define the list of stock tickers, excluding SP500 initially\n",
    "tickersList = stock_tickers\n",
    "\n",
    "# Set timeframe to '1D'\n",
    "timeframe = '1D'\n",
    "\n",
    "# Convert start_date and end_date to ISO format with New York timezone\n",
    "start_date = pd.Timestamp(start_date, tz='America/New_York').isoformat()\n",
    "end_date = pd.Timestamp(end_date, tz='America/New_York').isoformat()\n",
    "\n",
    "# Create an empty DataFrame to store the results for tickers\n",
    "df_combined_tickers = pd.DataFrame()\n",
    "\n",
    "# Make the request to Alpaca API for each ticker\n",
    "for ticker in tickersList:\n",
    "    # Convert the ticker to URL-encoded format\n",
    "    ticker_encoded = quote(ticker)\n",
    "    \n",
    "    # Make the request to Alpaca API to get bars data\n",
    "    df_ticker = alpaca.get_bars(ticker_encoded, timeframe, limit=None, start=start_date, end=end_date).df\n",
    "    \n",
    "    # Select only the 'close' column and assign the new column name with the ticker symbol for clarity purposes\n",
    "    df_ticker = df_ticker['close'].rename(ticker)\n",
    "    \n",
    "    # Combine the results\n",
    "    df_combined_tickers = pd.concat([df_combined_tickers, df_ticker], axis=1)\n",
    "\n",
    "# Display the results (closing prices for chosen tickers)\n",
    "df_combined_tickers"
   ]
  },
  {
   "cell_type": "code",
   "execution_count": 33,
   "id": "3eafe8e3-9f11-4827-a2bd-670b128dc2dc",
   "metadata": {},
   "outputs": [
    {
     "name": "stdout",
     "output_type": "stream",
     "text": [
      "\n",
      "Daily Returns for Tickers:\n",
      "                               AAPL      AMZN      MSFT\n",
      "2020-11-10 05:00:00+00:00 -0.002751 -0.034583 -0.033793\n",
      "2020-11-11 05:00:00+00:00  0.030086  0.033730  0.026255\n",
      "2020-11-12 05:00:00+00:00 -0.002343 -0.008641 -0.005126\n",
      "2020-11-13 05:00:00+00:00  0.000419  0.005958  0.004967\n",
      "2020-11-16 05:00:00+00:00  0.008720  0.000719  0.003325\n",
      "...                             ...       ...       ...\n",
      "2023-11-02 04:00:00+00:00  0.020693  0.007810  0.006502\n",
      "2023-11-03 04:00:00+00:00 -0.005181  0.003839  0.012862\n",
      "2023-11-06 05:00:00+00:00  0.014605  0.008225  0.010573\n",
      "2023-11-07 05:00:00+00:00  0.014451  0.021254  0.011219\n",
      "2023-11-08 05:00:00+00:00  0.005885 -0.004415  0.007406\n",
      "\n",
      "[754 rows x 3 columns]\n",
      "AAPL mean: 0.0007580392192901268\n",
      "AMZN mean: -0.0011414444220746664\n",
      "MSFT mean: 0.0008290250824961204\n"
     ]
    }
   ],
   "source": [
    "# Calculate daily returns for all ticker's closing prices\n",
    "daily_returns_tickers = df_combined_tickers.pct_change()\n",
    "daily_returns_tickers.dropna(inplace=True)\n",
    "\n",
    "# Display daily returns for the tickers\n",
    "print(\"\\nDaily Returns for Tickers:\")\n",
    "print(daily_returns_tickers)\n",
    "\n",
    "# Iterate through each stock in the list of tickers\n",
    "for stock in stock_tickers:\n",
    "    # Check if the stock exists in the daily returns columns\n",
    "    if stock in daily_returns_tickers.columns:\n",
    "        means[stock] = daily_returns_tickers.mean()[stock]  # Calculate mean for the stock and store in the dictionary\n",
    "        print(f'{stock} mean: {means[stock]}')  # Print the mean of daily returns for the stock"
   ]
  },
  {
   "cell_type": "code",
   "execution_count": 39,
   "id": "175b0d5a-7b46-4545-b9ea-457cd7244a20",
   "metadata": {},
   "outputs": [
    {
     "name": "stdout",
     "output_type": "stream",
     "text": [
      "\n",
      "Daily Returns for SPY:\n",
      "timestamp\n",
      "2020-11-10 05:00:00+00:00   -0.001523\n",
      "2020-11-11 05:00:00+00:00    0.007456\n",
      "2020-11-12 05:00:00+00:00   -0.009475\n",
      "2020-11-13 05:00:00+00:00    0.013471\n",
      "2020-11-16 05:00:00+00:00    0.012510\n",
      "                               ...   \n",
      "2023-11-02 04:00:00+00:00    0.019164\n",
      "2023-11-03 04:00:00+00:00    0.009123\n",
      "2023-11-06 05:00:00+00:00    0.002300\n",
      "2023-11-07 05:00:00+00:00    0.002846\n",
      "2023-11-08 05:00:00+00:00    0.000732\n",
      "Name: close, Length: 754, dtype: float64\n",
      "\n",
      "SPY mean:\n",
      "0.00033975975529095334\n"
     ]
    }
   ],
   "source": [
    "# Calculate and display daily returns for 'SPY'\n",
    "df_spy = alpaca.get_bars(\"SPY\", timeframe, limit=None, start=start_date, end=end_date).df\n",
    "daily_returns_spy = df_spy['close'].pct_change()\n",
    "daily_returns_spy.dropna(inplace=True)\n",
    "print(\"\\nDaily Returns for SPY:\")\n",
    "print(daily_returns_spy)\n",
    "\n",
    "# Calculate and display mean of daily return for 'SPY'\n",
    "mean_spy = daily_returns_spy.mean()\n",
    "print(\"\\nSPY mean:\")\n",
    "print(mean_spy)"
   ]
  },
  {
   "cell_type": "code",
   "execution_count": 40,
   "id": "9a0c1d66-bfc5-4218-a4d6-a5def5a88544",
   "metadata": {},
   "outputs": [
    {
     "name": "stdout",
     "output_type": "stream",
     "text": [
      "AAPL standard deviation: 0.0177839401327225\n",
      "AMZN standard deviation: 0.04183369731744983\n",
      "MSFT standard deviation: 0.017581619238321928\n"
     ]
    }
   ],
   "source": [
    "# Calculate and display standard deviation for each ticker\n",
    "std_devs = {}\n",
    "for stock in stock_tickers:\n",
    "    if stock in daily_returns_tickers.columns:\n",
    "        std_devs[stock] = daily_returns_tickers.std()[stock]\n",
    "        print(f'{stock} standard deviation: {std_devs[stock]}')"
   ]
  },
  {
   "cell_type": "code",
   "execution_count": 41,
   "id": "920a00a4-f778-48fd-959c-74df2e598759",
   "metadata": {},
   "outputs": [
    {
     "name": "stdout",
     "output_type": "stream",
     "text": [
      "\n",
      "Standard Deviation for SPY:\n",
      "0.011131185108019043\n"
     ]
    }
   ],
   "source": [
    "# Calculate and display standard deviation for 'SPY'\n",
    "std_dev_spy = daily_returns_spy.std()\n",
    "print(\"\\nStandard Deviation for SPY:\")\n",
    "print(std_dev_spy)"
   ]
  },
  {
   "cell_type": "code",
   "execution_count": 42,
   "id": "a8156723-ce25-4664-b5d9-0c9dae3824ac",
   "metadata": {},
   "outputs": [
    {
     "name": "stdout",
     "output_type": "stream",
     "text": [
      "\n",
      "Last Day's Closing Prices:\n",
      "AAPL    182.89\n",
      "AMZN    142.08\n",
      "MSFT    363.20\n",
      "Name: 2023-11-08 05:00:00+00:00, dtype: float64\n"
     ]
    }
   ],
   "source": [
    "# Get the last day's closing prices for each ticker\n",
    "last_day_closing_prices = df_combined_tickers.iloc[-1]\n",
    "\n",
    "# Display the last day's closing prices\n",
    "print(\"\\nLast Day's Closing Prices:\")\n",
    "print(last_day_closing_prices)\n"
   ]
  },
  {
   "cell_type": "code",
   "execution_count": 45,
   "id": "2f49f814-80ad-45f0-84f2-477c606eb138",
   "metadata": {},
   "outputs": [
    {
     "name": "stdout",
     "output_type": "stream",
     "text": [
      "\n",
      "Last Day's Closing Price for SPY:\n",
      "437.25\n"
     ]
    }
   ],
   "source": [
    "# Get the last day's closing price for 'SPY'\n",
    "spy_last_day_closing_price = df_spy['close'].iloc[-1]\n",
    "print(\"\\nLast Day's Closing Price for SPY:\")\n",
    "print(spy_last_day_closing_price)"
   ]
  },
  {
   "cell_type": "code",
   "execution_count": null,
   "id": "d8c8069c-b873-4835-a895-32f1af9792d8",
   "metadata": {},
   "outputs": [],
   "source": []
  }
 ],
 "metadata": {
  "kernelspec": {
   "display_name": "Python 3 (ipykernel)",
   "language": "python",
   "name": "python3"
  },
  "language_info": {
   "codemirror_mode": {
    "name": "ipython",
    "version": 3
   },
   "file_extension": ".py",
   "mimetype": "text/x-python",
   "name": "python",
   "nbconvert_exporter": "python",
   "pygments_lexer": "ipython3",
   "version": "3.9.18"
  }
 },
 "nbformat": 4,
 "nbformat_minor": 5
}
