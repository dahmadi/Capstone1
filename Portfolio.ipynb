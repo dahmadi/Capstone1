{
 "cells": [
  {
   "cell_type": "code",
   "execution_count": 52,
   "id": "6f2c2822-b428-4196-bb30-17dac97263e6",
   "metadata": {},
   "outputs": [],
   "source": [
    "#importing necessary libraries \n",
    "import numpy as np\n",
    "import pandas as pd\n",
    "import os\n",
    "from datetime import datetime, timedelta\n",
    "import matplotlib.pyplot as plt\n",
    "import alpaca_trade_api as tradeapi\n",
    "import yfinance as yf\n",
    "from urllib.parse import quote\n",
    "import seaborn as sns #library not from class\n",
    "%matplotlib inline"
   ]
  },
  {
   "cell_type": "code",
   "execution_count": 53,
   "id": "cca085cb-8f52-435b-af02-c416407f43c5",
   "metadata": {},
   "outputs": [
    {
     "data": {
      "text/plain": [
       "True"
      ]
     },
     "execution_count": 53,
     "metadata": {},
     "output_type": "execute_result"
    }
   ],
   "source": [
    "#Load .env environment variables\n",
    "from dotenv import load_dotenv\n",
    "load_dotenv()\n"
   ]
  },
  {
   "cell_type": "code",
   "execution_count": 54,
   "id": "56825116-655f-4f55-b6f3-81aefa2c9a5e",
   "metadata": {},
   "outputs": [],
   "source": [
    "# Set a random seed for reproducibility\n",
    "np.random.seed(40)"
   ]
  },
  {
   "cell_type": "code",
   "execution_count": 55,
   "id": "5f29a1d5-301c-4906-a1d0-a0fc5e7dab0c",
   "metadata": {},
   "outputs": [],
   "source": [
    "# Set Alpaca API key and secret\n",
    "APCA_API_KEY_ID = os.getenv(\"APCA_API_KEY\")\n",
    "APCA_API_SECRET_KEY = os.getenv(\"APCA_SECRET_KEY\")\n",
    "ALPACA_ENDPOINT_KEY = os.getenv(\"ALPACA_END_POINT\")\n",
    "\n",
    "#ensuring api keys are correct \n",
    "#print(os.getenv(\"APCA_API_KEY_ID\"))\n",
    "#print(os.getenv(\"APCA_API_SECRET_KEY\"))\n",
    "#print(os.getenv(\"ALPACA_ENDPOINT_KEY\"))\n",
    "\n",
    "# Create the Alpaca API object\n",
    "alpaca = tradeapi.REST(APCA_API_KEY_ID, APCA_API_SECRET_KEY, api_version=\"v2\",base_url= ALPACA_ENDPOINT_KEY)"
   ]
  },
  {
   "cell_type": "markdown",
   "id": "25c499e0-7c41-4450-8010-d58a446409c5",
   "metadata": {},
   "source": [
    "## Part 1 - Portfolio Optimization \n"
   ]
  },
  {
   "cell_type": "code",
   "execution_count": 56,
   "id": "432c91f0-8e13-4f25-830f-f38fad7018f6",
   "metadata": {},
   "outputs": [
    {
     "name": "stdout",
     "output_type": "stream",
     "text": [
      "The initial investment is: $10000\n",
      "The selected stocks are: ['AAPL', 'AMZN', 'MSFT']\n",
      "The start date is: 2020-11-08\n",
      "The start date is: 2020-11-08\n",
      "The number of monte carlo simulations is: 500\n"
     ]
    }
   ],
   "source": [
    "#initializing variables\n",
    "initial_investment = 10000\n",
    "print(f'The initial investment is: ${initial_investment}')\n",
    "\n",
    "stock_tickers = ['AAPL', 'AMZN', 'MSFT'] \n",
    "ticker_string = ', '.join(stock_tickers)\n",
    "print(f'The selected stocks are: {stock_tickers}')\n",
    "\n",
    "start_date = '2020-11-08'  # Set your desired start date\n",
    "print(f'The start date is: {start_date}')\n",
    "\n",
    "end_date = '2023-11-08'  # Set your desired start date\n",
    "print(f'The start date is: {start_date}')\n",
    "\n",
    "num_simulations = 500 \n",
    "print(f'The number of monte carlo simulations is: {num_simulations}')"
   ]
  },
  {
   "cell_type": "markdown",
   "id": "68eb5088-3638-4037-b357-0a77f71c2606",
   "metadata": {},
   "source": [
    "### Import S&P500 Data From Alpacas and Display Closing Prices From Chosen Stocks"
   ]
  },
  {
   "cell_type": "code",
   "execution_count": 65,
   "id": "5f77af5b-77d2-49a5-8252-fea9f77b5deb",
   "metadata": {},
   "outputs": [
    {
     "data": {
      "text/html": [
       "<div>\n",
       "<style scoped>\n",
       "    .dataframe tbody tr th:only-of-type {\n",
       "        vertical-align: middle;\n",
       "    }\n",
       "\n",
       "    .dataframe tbody tr th {\n",
       "        vertical-align: top;\n",
       "    }\n",
       "\n",
       "    .dataframe thead th {\n",
       "        text-align: right;\n",
       "    }\n",
       "</style>\n",
       "<table border=\"1\" class=\"dataframe\">\n",
       "  <thead>\n",
       "    <tr style=\"text-align: right;\">\n",
       "      <th></th>\n",
       "      <th>AAPL</th>\n",
       "      <th>AMZN</th>\n",
       "      <th>MSFT</th>\n",
       "    </tr>\n",
       "  </thead>\n",
       "  <tbody>\n",
       "    <tr>\n",
       "      <th>2020-11-09 05:00:00+00:00</th>\n",
       "      <td>116.32</td>\n",
       "      <td>3143.74</td>\n",
       "      <td>218.39</td>\n",
       "    </tr>\n",
       "    <tr>\n",
       "      <th>2020-11-10 05:00:00+00:00</th>\n",
       "      <td>116.00</td>\n",
       "      <td>3035.02</td>\n",
       "      <td>211.01</td>\n",
       "    </tr>\n",
       "    <tr>\n",
       "      <th>2020-11-11 05:00:00+00:00</th>\n",
       "      <td>119.49</td>\n",
       "      <td>3137.39</td>\n",
       "      <td>216.55</td>\n",
       "    </tr>\n",
       "    <tr>\n",
       "      <th>2020-11-12 05:00:00+00:00</th>\n",
       "      <td>119.21</td>\n",
       "      <td>3110.28</td>\n",
       "      <td>215.44</td>\n",
       "    </tr>\n",
       "    <tr>\n",
       "      <th>2020-11-13 05:00:00+00:00</th>\n",
       "      <td>119.26</td>\n",
       "      <td>3128.81</td>\n",
       "      <td>216.51</td>\n",
       "    </tr>\n",
       "    <tr>\n",
       "      <th>...</th>\n",
       "      <td>...</td>\n",
       "      <td>...</td>\n",
       "      <td>...</td>\n",
       "    </tr>\n",
       "    <tr>\n",
       "      <th>2023-11-02 04:00:00+00:00</th>\n",
       "      <td>177.57</td>\n",
       "      <td>138.07</td>\n",
       "      <td>348.32</td>\n",
       "    </tr>\n",
       "    <tr>\n",
       "      <th>2023-11-03 04:00:00+00:00</th>\n",
       "      <td>176.65</td>\n",
       "      <td>138.60</td>\n",
       "      <td>352.80</td>\n",
       "    </tr>\n",
       "    <tr>\n",
       "      <th>2023-11-06 05:00:00+00:00</th>\n",
       "      <td>179.23</td>\n",
       "      <td>139.74</td>\n",
       "      <td>356.53</td>\n",
       "    </tr>\n",
       "    <tr>\n",
       "      <th>2023-11-07 05:00:00+00:00</th>\n",
       "      <td>181.82</td>\n",
       "      <td>142.71</td>\n",
       "      <td>360.53</td>\n",
       "    </tr>\n",
       "    <tr>\n",
       "      <th>2023-11-08 05:00:00+00:00</th>\n",
       "      <td>182.89</td>\n",
       "      <td>142.08</td>\n",
       "      <td>363.20</td>\n",
       "    </tr>\n",
       "  </tbody>\n",
       "</table>\n",
       "<p>755 rows × 3 columns</p>\n",
       "</div>"
      ],
      "text/plain": [
       "                             AAPL     AMZN    MSFT\n",
       "2020-11-09 05:00:00+00:00  116.32  3143.74  218.39\n",
       "2020-11-10 05:00:00+00:00  116.00  3035.02  211.01\n",
       "2020-11-11 05:00:00+00:00  119.49  3137.39  216.55\n",
       "2020-11-12 05:00:00+00:00  119.21  3110.28  215.44\n",
       "2020-11-13 05:00:00+00:00  119.26  3128.81  216.51\n",
       "...                           ...      ...     ...\n",
       "2023-11-02 04:00:00+00:00  177.57   138.07  348.32\n",
       "2023-11-03 04:00:00+00:00  176.65   138.60  352.80\n",
       "2023-11-06 05:00:00+00:00  179.23   139.74  356.53\n",
       "2023-11-07 05:00:00+00:00  181.82   142.71  360.53\n",
       "2023-11-08 05:00:00+00:00  182.89   142.08  363.20\n",
       "\n",
       "[755 rows x 3 columns]"
      ]
     },
     "execution_count": 65,
     "metadata": {},
     "output_type": "execute_result"
    }
   ],
   "source": [
    "# Importing SP500 \n",
    "spy = [\"SPY\"]\n",
    "\n",
    "# Define the list of stock tickers, including SP500\n",
    "list_of_tickers = stock_tickers + spy\n",
    "\n",
    "# Set timeframe to '1D'\n",
    "timeframe = '1D'\n",
    "\n",
    "# Convert start_date and end_date to ISO format with New York timezone\n",
    "start_date = pd.Timestamp(start_date, tz='America/New_York').isoformat()\n",
    "end_date = pd.Timestamp(end_date, tz='America/New_York').isoformat()\n",
    "\n",
    "# Create an empty DataFrame to store the results\n",
    "df_combined = pd.DataFrame()\n",
    "\n",
    "# Make the request to Alpaca API for each ticker\n",
    "for ticker in list_of_tickers:\n",
    "    # Convert the ticker to URL-encoded format\n",
    "    ticker_encoded = quote(ticker)\n",
    "    \n",
    "     # Make the request to Alpaca API to get bars data\n",
    "    df_ticker = alpaca.get_bars(ticker_encoded, timeframe, limit=None, start=start_date, end=end_date).df\n",
    "    \n",
    "    # Select only the 'close' column and assign the new column name with the ticker symbol for clarity purposes\n",
    "    df_ticker = df_ticker['close'].rename(ticker)\n",
    "    \n",
    "    # Combine the results\n",
    "    df_combined = pd.concat([df_combined, df_ticker], axis=1)\n",
    "\n",
    "# Drop the 'SPY' column \n",
    "if 'SPY' in df_combined.columns:\n",
    "    df_combined.drop(columns='SPY', inplace=True)\n",
    "\n",
    "# Display the results (closing prices for chosen tickers)\n",
    "df_combined"
   ]
  },
  {
   "cell_type": "code",
   "execution_count": null,
   "id": "3eafe8e3-9f11-4827-a2bd-670b128dc2dc",
   "metadata": {},
   "outputs": [],
   "source": []
  }
 ],
 "metadata": {
  "kernelspec": {
   "display_name": "Python 3 (ipykernel)",
   "language": "python",
   "name": "python3"
  },
  "language_info": {
   "codemirror_mode": {
    "name": "ipython",
    "version": 3
   },
   "file_extension": ".py",
   "mimetype": "text/x-python",
   "name": "python",
   "nbconvert_exporter": "python",
   "pygments_lexer": "ipython3",
   "version": "3.9.18"
  }
 },
 "nbformat": 4,
 "nbformat_minor": 5
}
